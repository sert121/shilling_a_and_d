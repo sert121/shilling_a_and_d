{
  "nbformat": 4,
  "nbformat_minor": 0,
  "metadata": {
    "colab": {
      "name": "ud-hmm.ipynb",
      "provenance": [],
      "collapsed_sections": []
    },
    "kernelspec": {
      "display_name": "Python 3",
      "name": "python3"
    },
    "language_info": {
      "name": "python"
    }
  },
  "cells": [
    {
      "cell_type": "code",
      "metadata": {
        "id": "CNfbtKcwHh_w"
      },
      "source": [
        "# load data\n",
        "import pandas as pd\n",
        "import numpy as np\n",
        "import random\n",
        "import os\n",
        "from tqdm import tqdm\n",
        "names = ['user_id', 'item_id', 'rating', 'timestamp']\n",
        "names1=['user_id','label']\n",
        "#data=pd.read_csv(\"/content/drive/MyDrive/attacks/profiles.txt\",delim_whitespace=True,names=names)\n",
        "original_users_no=943 # 943 for 100k, 6040 for 1M"
      ],
      "execution_count": null,
      "outputs": []
    },
    {
      "cell_type": "code",
      "metadata": {
        "id": "WhTSgk7-ULOl"
      },
      "source": [
        "import pickle\n",
        "# with open(\"/content/drive/MyDrive/synthpop/new_data.pkl\", \"rb\") as file: data=pickle.load(file)\n",
        "#data=pd.read_csv(\"/content/drive/MyDrive/attack_datasets/Netflix300K/average/profiles_1.0.txt\",delim_whitespace=True,names=names)\n",
        "data=pd.read_csv(\"/content/drive/MyDrive/attack_datasets/Movielens100K/average/profiles_1.5.txt\",delim_whitespace=True,names=names)\n",
        "labels=pd.read_csv(\"/content/drive/MyDrive/attack_datasets/Movielens100K/average/labels_1.5.txt\",delim_whitespace=True,names=names1)"
      ],
      "execution_count": null,
      "outputs": []
    },
    {
      "cell_type": "code",
      "metadata": {
        "id": "kEBCzGUAD-01"
      },
      "source": [
        "data.user_id.unique().shape[0]"
      ],
      "execution_count": null,
      "outputs": []
    },
    {
      "cell_type": "code",
      "metadata": {
        "colab": {
          "base_uri": "https://localhost:8080/"
        },
        "id": "rcYnNHZMHH-4",
        "outputId": "12687b2d-d1f4-4a86-8539-2adab4280298"
      },
      "source": [
        "# data matrix, timestamp matrix\n",
        "n_users = data.user_id.unique().shape[0]\n",
        "n_items = data.item_id.unique().shape[0]\n",
        "n_items = data['item_id'].max()\n",
        "data_matrix = np.zeros((n_users,n_items))\n",
        "#timestamp_matrix=np.zeros((n_users,n_items))\n",
        "for line in data.itertuples():\n",
        "    data_matrix[line[1]-1,line[2]-1] = line[3]\n",
        "    #timestamp_matrix[line[1]-1,line[2]-1] = line[4]\n",
        "print(\"Original rating matrix : \",data_matrix.shape)"
      ],
      "execution_count": null,
      "outputs": [
        {
          "output_type": "stream",
          "name": "stdout",
          "text": [
            "Original rating matrix :  (1083, 1682)\n"
          ]
        }
      ]
    },
    {
      "cell_type": "code",
      "source": [
        "data_matrix"
      ],
      "metadata": {
        "id": "Kllo7DgF-JPv"
      },
      "execution_count": null,
      "outputs": []
    },
    {
      "cell_type": "code",
      "metadata": {
        "colab": {
          "base_uri": "https://localhost:8080/"
        },
        "id": "bfSb5HiNHjWD",
        "outputId": "09f06fed-3d27-433a-8c94-73eb9b05a61c"
      },
      "source": [
        "# URIS\n",
        "users=data.user_id.unique()\n",
        "items=data.item_id.unique()\n",
        "URIS,L,timestamps={},{},{}\n",
        "for i in tqdm(users):\n",
        "  URIS[i]=[]\n",
        "  for j in items:\n",
        "    if data_matrix[i-1][j-1]>0:\n",
        "      URIS[i].append(j)\n",
        "len(URIS)"
      ],
      "execution_count": null,
      "outputs": [
        {
          "output_type": "stream",
          "name": "stderr",
          "text": [
            "100%|██████████| 3299/3299 [00:21<00:00, 156.25it/s]\n"
          ]
        },
        {
          "output_type": "execute_result",
          "data": {
            "text/plain": [
              "3299"
            ]
          },
          "metadata": {},
          "execution_count": 52
        }
      ]
    },
    {
      "cell_type": "code",
      "metadata": {
        "colab": {
          "base_uri": "https://localhost:8080/"
        },
        "id": "jpm72QqPH1ZA",
        "outputId": "b1e41407-bac8-4854-e89a-17e4d4a53802"
      },
      "source": [
        "# sorting according to timestamps\n",
        "for i in tqdm(users):\n",
        "  temp_arr=URIS[i]\n",
        "  for j in range(len(temp_arr)):\n",
        "    for k in range(0, len(temp_arr) - j - 1):\n",
        "      if timestamp_matrix[i-1][temp_arr[k]-1] > timestamp_matrix[i-1][temp_arr[k+1]-1]:\n",
        "        # swapping elements if elements\n",
        "        # are not in the intended order\n",
        "        temp = temp_arr[k]\n",
        "        temp_arr[k] = temp_arr[k+1]\n",
        "        temp_arr[k+1] = temp\n",
        "  URIS[i]=temp_arr"
      ],
      "execution_count": null,
      "outputs": [
        {
          "output_type": "stream",
          "name": "stderr",
          "text": [
            "100%|██████████| 3299/3299 [02:32<00:00, 21.59it/s]\n"
          ]
        }
      ]
    },
    {
      "cell_type": "code",
      "metadata": {
        "colab": {
          "base_uri": "https://localhost:8080/"
        },
        "id": "Itzdxn3JIGVh",
        "outputId": "3ab59e1d-5c7e-48a8-cfa3-e158e7756a6b"
      },
      "source": [
        "# preparing data for hmm\n",
        "test_arr=np.array(URIS[1]).reshape(-1,1)\n",
        "lengths=[len(test_arr)]\n",
        "for i in tqdm(range(2,original_users_no)):\n",
        "  test_arr_1=np.array(URIS[i]).reshape(-1,1)\n",
        "  test_arr=np.concatenate([test_arr, test_arr_1])\n",
        "  lengths.append(len(test_arr_1))"
      ],
      "execution_count": null,
      "outputs": [
        {
          "output_type": "stream",
          "name": "stderr",
          "text": [
            "100%|██████████| 2998/2998 [00:00<00:00, 4446.71it/s]\n"
          ]
        }
      ]
    },
    {
      "cell_type": "code",
      "metadata": {
        "id": "fLxtJLMFY6gk"
      },
      "source": [
        "import pickle\n",
        "with open(f\"/content/drive/MyDrive/attacks/M1M_original_testarr.pkl\", \"wb\") as file: pickle.dump(test_arr,file)\n",
        "with open(f\"/content/drive/MyDrive/attacks/M1M_original_lengths.pkl\", \"wb\") as file: pickle.dump(lengths,file)"
      ],
      "execution_count": null,
      "outputs": []
    },
    {
      "cell_type": "code",
      "metadata": {
        "id": "GnFsNMWgITJB"
      },
      "source": [
        "!pip install hmmlearn"
      ],
      "execution_count": null,
      "outputs": []
    },
    {
      "cell_type": "code",
      "metadata": {
        "id": "L2rIqAFeIOXr"
      },
      "source": [
        "from hmmlearn import hmm\n",
        "from hmmlearn.hmm import MultinomialHMM\n",
        "from hmmlearn.base import ConvergenceMonitor\n",
        "import pickle\n",
        "import pandas as pd\n",
        "import numpy as np\n",
        "import matplotlib as plt\n",
        "from collections import defaultdict\n"
      ],
      "execution_count": null,
      "outputs": []
    },
    {
      "cell_type": "code",
      "source": [
        "################# creating models and saving them as they take a lot of time ###################\n",
        "with open(f\"/content/drive/MyDrive/attacks/M1M_original_testarr.pkl\", \"rb\") as file: test_arr=pickle.load(file)\n",
        "with open(f\"/content/drive/MyDrive/attacks/M1M_original_lengths.pkl\", \"rb\") as file: lengths=pickle.load(file)\n",
        "for n in tqdm(range(3,8)):\n",
        "  remodel=hmm.MultinomialHMM(n_components=n,n_iter=500,algorithm='viterbi').fit(test_arr,lengths)\n",
        "  with open(f\"/content/drive/MyDrive/attacks/M1M_hmmmodel_{n}.pkl\", \"wb\") as file: pickle.dump(remodel, file)"
      ],
      "metadata": {
        "id": "beyUVjZ9HH4W"
      },
      "execution_count": null,
      "outputs": []
    },
    {
      "cell_type": "code",
      "metadata": {
        "id": "FQAlbplXIXhS"
      },
      "source": [
        "# predict states\n",
        "L,obsrv_prob={},{}\n",
        "def predict_states():\n",
        "  for i in tqdm(URIS):\n",
        "    j=np.array(URIS[i]).reshape(-1,1)\n",
        "    try:\n",
        "      L[i]=remodel.decode(j,algorithm='viterbi')\n",
        "      obsrv_prob[i]=remodel.predict_proba(j)\n",
        "    except:\n",
        "      print(\"predict error\")"
      ],
      "execution_count": null,
      "outputs": []
    },
    {
      "cell_type": "code",
      "metadata": {
        "id": "mNll8E1VI7JU"
      },
      "source": [
        "#user matching degree\n",
        "import matplotlib.pyplot as plt\n",
        "\n",
        "\n",
        "UMD,umd={},[]\n",
        "def user_matching_degree(i,attack,n):\n",
        "  for key in tqdm(users):\n",
        "    if key in L:\n",
        "      state=L[key][1][0]\n",
        "      #arg=start_prob[i][state]*obsrv_prob[i][0][state]\n",
        "      arg=remodel.startprob_[state]*obsrv_prob[key][0][state]\n",
        "      for j in range(1,len(L[key][1])):\n",
        "        last_state=L[key][1][j-1]\n",
        "        curr_state=L[key][1][j]\n",
        "        arg1=remodel.transmat_[last_state][curr_state]*obsrv_prob[key][j][curr_state]\n",
        "        arg=arg*arg1\n",
        "      UMD[key]=arg**(1.0/len(L[key][1]))\n",
        "      umd.append(UMD[key])\n",
        "  x,y,z=[],[],[]\n",
        "  for key in UMD:\n",
        "    x.append(key)\n",
        "    y.append(UMD[key])\n",
        "    if key<944:\n",
        "      z.append('royalblue')\n",
        "    else:\n",
        "      z.append('firebrick')\n",
        "\n",
        "  plt.clf()\n",
        "  plt.style.use('ggplot')\n",
        "  plt.xlabel('User Profiles')\n",
        "  plt.ylabel('User Matching Degree (UMD)')\n",
        "  plt.scatter(x,y,color=z)\n",
        "  plt.savefig(f'/content/drive/MyDrive/attacks/plots/umd_{i}_{attack}_attack_{n}.png')\n",
        "  plt.show()\n",
        "  "
      ],
      "execution_count": null,
      "outputs": []
    },
    {
      "cell_type": "code",
      "metadata": {
        "id": "P54W68CpIrNa"
      },
      "source": [
        "# item entropy\n",
        "import math\n",
        "USD,IE,ie={},{},[]\n",
        "def item_entropy():\n",
        "  for key in tqdm(items):\n",
        "    IE[key]=0\n",
        "    col=data_matrix[:,key-1]\n",
        "    prob_denom=0\n",
        "    prob_num=[0,0,0,0,0]\n",
        "    for j in col:\n",
        "      if j>0:\n",
        "        prob_denom+=1\n",
        "        prob_num[int(j-1)]+=1\n",
        "    for d in range(5):\n",
        "      prob=prob_num[d]/prob_denom\n",
        "      if prob!=0.0:\n",
        "        IE[key]+=(-(prob*math.log2(prob)))\n",
        "    if IE[key]!=0.0:\n",
        "      ie.append(IE[key])\n",
        "  print(IE)"
      ],
      "execution_count": null,
      "outputs": []
    },
    {
      "cell_type": "code",
      "metadata": {
        "id": "7T--ZeFaI1On"
      },
      "source": [
        "# isd\n",
        "ISD={}\n",
        "def item_suspicious_degree():\n",
        "  umd_max=max(umd)\n",
        "  umd_min=min(umd)\n",
        "  ie_max=max(ie)\n",
        "  ie_min=min(ie) # min(ie)\n",
        "  print(ie_max,ie_min)\n",
        "  for key in tqdm(items):\n",
        "    UH=0\n",
        "    m_norm=0\n",
        "    for u in users:\n",
        "      if data_matrix[u-1][key-1]>3:\n",
        "        m_norm+=(1/UMD[u]-1/umd_max)/(1/umd_min-1/umd_max)\n",
        "        UH+=1\n",
        "    if IE[key]!=0 and UH!=0:\n",
        "      ie_norm=(1/IE[key]-1/ie_max)/(1/ie_min-1/ie_max)\n",
        "      ISD[key]=(m_norm/UH)*ie_norm\n",
        "  print(ISD)\n",
        "    # else:\n",
        "    #   ISD[i]=0 # to check, entropy is 0"
      ],
      "execution_count": null,
      "outputs": []
    },
    {
      "cell_type": "code",
      "metadata": {
        "id": "K1PQv0pAJN2E"
      },
      "source": [
        "# sdri\n",
        "# sdri\n",
        "SDRI,sdri={},[]\n",
        "def sd_range(i,attack,n):\n",
        "  for u in users:\n",
        "    isd_arr=[]\n",
        "    for k in URIS[u]:\n",
        "      if k in ISD:\n",
        "        isd_arr.append(ISD[k])\n",
        "    SDRI[u]=max(isd_arr)-min(isd_arr)\n",
        "    sdri.append(SDRI[u])\n",
        "  sdri_max=max(sdri)\n",
        "  sdri_min=min(sdri)\n",
        "  print(sdri_min,sdri_max)\n",
        "  x,y,z=[],[],[]\n",
        "  for key in SDRI:\n",
        "    x.append(key)\n",
        "    y.append(SDRI[key])\n",
        "    if key<944:\n",
        "      z.append('royalblue')\n",
        "    else:\n",
        "      z.append('firebrick')\n",
        "\n",
        "  plt.clf()\n",
        "  plt.style.use('ggplot')\n",
        "  plt.xlabel('User Profiles')\n",
        "  plt.ylabel('Suspicious Degree Range of Items')\n",
        "  plt.scatter(x,y,color=z)\n",
        "  plt.savefig(f'/content/drive/MyDrive/attacks/plots/sdri_{i}_{attack}_attack_{n}.png')\n",
        "  plt.show()"
      ],
      "execution_count": null,
      "outputs": []
    },
    {
      "cell_type": "code",
      "metadata": {
        "id": "Fq_5Q3pCJXDk"
      },
      "source": [
        "#USD\n",
        "def user_degree(i,alpha,n,attack):\n",
        "  for u in tqdm(users):\n",
        "    match_norm=(1/UMD[u]-1/umd_max)/(1/umd_min-1/umd_max)\n",
        "    sdri_norm=(1/SDRI[u]-1/sdri_max)/(1/sdri_min-1/sdri_max)\n",
        "    USD[u]=(alpha*match_norm)+(1-alpha)*sdri_norm\n",
        "    usd[u-1]=USD[u]\n",
        "  x,y,z=[],[],[]\n",
        "  for key in USD:\n",
        "    x.append(key)\n",
        "    y.append(USD[key])\n",
        "    if key<944:\n",
        "      z.append('royalblue')\n",
        "    else:\n",
        "      z.append('firebrick')\n",
        "  plt.clf()\n",
        "  plt.style.use('ggplot')\n",
        "  plt.xlabel('User Profiles')\n",
        "  plt.ylabel('User Suspicious Degree (USD)')\n",
        "  plt.scatter(x,y,color=z)\n",
        "  plt.savefig(f'/content/drive/MyDrive/attacks/plots/usd_{i}_{attack}_attack_{alpha}_{n}.png')\n",
        "  plt.show()\n",
        "  return usd"
      ],
      "execution_count": null,
      "outputs": []
    },
    {
      "cell_type": "code",
      "metadata": {
        "id": "6K6CQbaJJc_z"
      },
      "source": [
        "#algo3 clustering\n",
        "from sklearn.cluster import AgglomerativeClustering\n",
        "# clustering = AgglomerativeClustering(linkage='ward', n_clusters=2)\n",
        "# usd=np.array(usd).reshape((-1,1))\n",
        "# clustering.fit(usd)\n",
        "# np.count_nonzero(clustering.labels_==1)"
      ],
      "execution_count": null,
      "outputs": []
    },
    {
      "cell_type": "code",
      "metadata": {
        "id": "bVUS9qwob-0F"
      },
      "source": [
        "\n",
        "for attack in ['random','bandwagon']:\n",
        "  for i in [0.1,0.15,0.20]:\n",
        "    data=pd.read_csv(f\"/content/drive/MyDrive/attack_datasets/Movielens100K/{attack}/profiles_{i*10}.txt\",delim_whitespace=True,names=names)\n",
        "    # data matrix, timestamp matrix\n",
        "    n_users = data.user_id.unique().shape[0]\n",
        "    n_items = data.item_id.unique().shape[0]\n",
        "    n_items = data['item_id'].max()\n",
        "    data_matrix = np.zeros((n_users,n_items))\n",
        "    timestamp_matrix=np.zeros((n_users,n_items))\n",
        "    for line in data.itertuples():\n",
        "        data_matrix[line[1]-1,line[2]-1] = line[3]\n",
        "        timestamp_matrix[line[1]-1,line[2]-1] = line[4]\n",
        "    print(\"Original rating matrix : \",data_matrix.shape)\n",
        "    # URIS\n",
        "    users=data.user_id.unique()\n",
        "    items=data.item_id.unique()\n",
        "    URIS,L,timestamps={},{},{}\n",
        "    for i in tqdm(users):\n",
        "      URIS[i]=[]\n",
        "      for j in items:\n",
        "        if data_matrix[i-1][j-1]>0:\n",
        "          URIS[i].append(j)\n",
        "    # sorting according to timestamps\n",
        "    for i in tqdm(users):\n",
        "      temp_arr=URIS[i]\n",
        "      for j in range(len(temp_arr)):\n",
        "        for k in range(0, len(temp_arr) - j - 1):\n",
        "          if timestamp_matrix[i-1][temp_arr[k]-1] > timestamp_matrix[i-1][temp_arr[k+1]-1]:\n",
        "            # swapping elements if elements\n",
        "            # are not in the intended order\n",
        "            temp = temp_arr[k]\n",
        "            temp_arr[k] = temp_arr[k+1]\n",
        "            temp_arr[k+1] = temp\n",
        "      URIS[i]=temp_arr\n",
        "    usd=[0]*len(users)\n",
        "    final_labels=defaultdict(dict)\n",
        "    for n in tqdm(range(5,6)):\n",
        "      with open(f\"/content/drive/MyDrive/attacks/M100K_hmmmodel_{n}.pkl\", \"rb\") as file: remodel=pickle.load(file)\n",
        "      L,obsrv_prob={},{}\n",
        "      predict_states()\n",
        "      UMD,umd={},[]\n",
        "      user_matching_degree(i,attack,n)\n",
        "      umd_max=max(umd)\n",
        "      umd_min=min(umd)\n",
        "      USD,IE,ie={},{},[]\n",
        "      item_entropy()\n",
        "      ISD={}\n",
        "      item_suspicious_degree()\n",
        "      SDRI,sdri={},[]\n",
        "      sd_range(i,attack,n)\n",
        "      sdri_max=max(sdri)\n",
        "      sdri_min=min(sdri)\n",
        "      for alpha in [0.9]:\n",
        "        arr=user_degree(i,alpha,n,attack)\n",
        "        clustering = AgglomerativeClustering(linkage='ward', n_clusters=2)\n",
        "        c_arr=np.array(arr).reshape((-1,1))\n",
        "        try:\n",
        "          clustering.fit(c_arr)\n",
        "          final_labels[n][alpha]=clustering.labels_\n",
        "        except:\n",
        "          print(f\"{n},error\")\n",
        "    with open(f\"/content/drive/MyDrive/attack_datasets/Movielens100K/{attack}_profiles_{i*10}_finallabels.pkl\", \"wb\") as file: pickle.dump(final_labels, file)"
      ],
      "execution_count": null,
      "outputs": []
    },
    {
      "cell_type": "code",
      "metadata": {
        "id": "EY10iNIf_JR9"
      },
      "source": [
        "for attack in ['random','bandwagon']:\n",
        "  print(f\"-----attack-----\")\n",
        "  for i in [1036,1083,1130,1177]:\n",
        "  #for i in [6643,6945,7247,7549]:\n",
        "    print(f\"-----attack size= {i*10}%--------------\")\n",
        "    with open(f\"/content/drive/MyDrive/attack_datasets/Movielens100K/{attack}_profiles_{i*10}_finallabels.pkl\", \"rb\") as file: results=pickle.load(file)\n",
        "    # for n in range(3,6):\n",
        "    n=5\n",
        "    print(f\"-----------n-components={n}---------------\")\n",
        "    # for alpha in [0.6,0.7,0.8,0.9,1.0]:\n",
        "    alpha=0.9\n",
        "    print(f\"-------alpha={alpha}--------------\")\n",
        "    print(f\"cluster 1 = {np.count_nonzero(results[n][alpha]==1)}\")\n",
        "    print(f\"cluster 2= {np.count_nonzero(results[n][alpha]==0)}\")\n",
        "    labels=results[n][alpha]\n",
        "    TP,FP,FN,precision,F1,recall=0,0,0,0,0,0\n",
        "    for p in range(943):\n",
        "      if labels[p]==1:FP+=1\n",
        "    for p in range(943,len(labels)):\n",
        "      if labels[p]==1:TP+=1\n",
        "      else:FN+=1\n",
        "    precision=TP/(TP+FP)\n",
        "    recall=TP/(TP+FN)\n",
        "    F1=((2*precision)*recall)/(precision+recall)\n",
        "    print(f\"F1={F1}\")"
      ],
      "execution_count": null,
      "outputs": []
    }
  ]
}