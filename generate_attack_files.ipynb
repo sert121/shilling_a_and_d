{
  "nbformat": 4,
  "nbformat_minor": 0,
  "metadata": {
    "colab": {
      "name": "generate_attack_files.ipynb",
      "provenance": [],
      "collapsed_sections": []
    },
    "kernelspec": {
      "name": "python3",
      "display_name": "Python 3"
    },
    "language_info": {
      "name": "python"
    }
  },
  "cells": [
    {
      "cell_type": "code",
      "metadata": {
        "id": "Kdvfdu4_EBfW"
      },
      "source": [
        "%cd /content/drive/MyDrive/attacks/\n",
        "!ls"
      ],
      "execution_count": null,
      "outputs": []
    },
    {
      "cell_type": "code",
      "source": [
        "# load function taken from https://github.com/itaygal/RS_TrueReputation/\n",
        "import re\n",
        "import copy\n",
        "import os\n",
        "\n",
        "\"\"\"load rating .csv file and save results to given data structures \n",
        "   Args:\n",
        "       dataset_path: path to movielens 100k rating file\n",
        "       user_movie_ratings: dic of user to a dic of movie to a rating. user_movie_ratings[user_id][movie_id] = rating\n",
        "       movie_user_ratings:  dic of movie to a dic of user to a rating. movie_user_ratings[movie_id][user_id] = rating\n",
        "       movies: set of all movie names\n",
        "   Returns:\n",
        "       None.\n",
        "\"\"\"\n",
        "def load(dataset_path, user_movie_ratings, movie_user_ratings, movies):\n",
        "    # user id | item id | rating | timestamp\n",
        "    rating_match = re.compile(\"\\D*(\\d+)\\D*(\\d+)\\D*(\\d+)\\D*(\\d+)\")\n",
        "    with open(dataset_path, 'r') as dataset_file:\n",
        "        for rating_line in dataset_file:\n",
        "            m = rating_match.match(rating_line)\n",
        "            if m:\n",
        "                user_id = m.group(1)\n",
        "                movie_id = m.group(2)\n",
        "                rating = m.group(3)\n",
        "                timestamp = m.group(4)\n",
        "                if user_id not in user_movie_ratings:\n",
        "                    user_movie_ratings[user_id] = {}\n",
        "                user_movie_ratings[user_id][movie_id] = (int(rating), int(timestamp))\n",
        "                if movie_id not in movie_user_ratings:\n",
        "                    movie_user_ratings[movie_id] = {}\n",
        "                movies.add(movie_id)\n",
        "                movie_user_ratings[movie_id][user_id] = (int(rating), int(timestamp))"
      ],
      "metadata": {
        "id": "8eN0XN96E4M9"
      },
      "execution_count": null,
      "outputs": []
    },
    {
      "cell_type": "code",
      "metadata": {
        "id": "Gdg_DuE9nJhn"
      },
      "source": [
        "\n",
        "user_movie_ratings = {}  # dic of user to a dic of movie to a rating. user_movie_ratings[user_id][movie_id] = rating\n",
        "movie_user_ratings = {}  # dic of movie to a dic of user to a rating. movie_user_ratings[movie_id][user_id] = rating\n",
        "movies = set() # set of all movie names\n",
        "# load rating .csv file into data structures\n",
        "load(\"/content/drive/MyDrive/attacks/ml-100k/u.data\", user_movie_ratings, movie_user_ratings, movies)\n",
        "# load item information .csv release year into movie release year\n"
      ],
      "execution_count": null,
      "outputs": []
    },
    {
      "cell_type": "code",
      "metadata": {
        "colab": {
          "base_uri": "https://localhost:8080/"
        },
        "id": "j0iRvCG0dQ65",
        "outputId": "ef6e97da-3537-42a5-c2c8-1d652c5842b6"
      },
      "source": [
        "from tqdm import tqdm\n",
        "Movies={}\n",
        "for m in tqdm(movie_user_ratings):\n",
        "  Movies[m]=[]\n",
        "  Movies[m].append(len(movie_user_ratings[m]))\n",
        "  avg_rating=0\n",
        "  for i in movie_user_ratings[m]:\n",
        "    avg_rating+=movie_user_ratings[m][i][0]\n",
        "  Movies[m].append(avg_rating/len(movie_user_ratings[m]))\n",
        "\n"
      ],
      "execution_count": null,
      "outputs": [
        {
          "output_type": "stream",
          "name": "stderr",
          "text": [
            "100%|██████████| 1682/1682 [00:00<00:00, 17737.98it/s]\n"
          ]
        }
      ]
    },
    {
      "cell_type": "code",
      "metadata": {
        "id": "uuE4N4QXgfss"
      },
      "source": [
        "from collections import defaultdict\n",
        "import numpy as np\n",
        "import random\n",
        "userProfile=defaultdict(dict)\n",
        "itemProfile = defaultdict(dict)\n",
        "timeProfile= defaultdict(dict)\n",
        "random_time=[]\n",
        "for user in user_movie_ratings:\n",
        "  for item in user_movie_ratings[user]:\n",
        "    userProfile[int(user)][int(item)]=int(user_movie_ratings[user][item][0])\n",
        "    itemProfile[int(item)][int(user)]=int(user_movie_ratings[user][item][0])\n",
        "    timeProfile[int(user)][int(item)]=int(user_movie_ratings[user][item][1])\n",
        "    random_time.append(int(user_movie_ratings[user][item][1]))"
      ],
      "execution_count": null,
      "outputs": []
    },
    {
      "cell_type": "code",
      "metadata": {
        "id": "7aL-FjGzN3VS"
      },
      "source": [
        "# attack functions are modified from https://github.com/Coder-Yu/SDLib\n",
        "############################################### config ###################################\n",
        "\n",
        "outputDir = \"/content/drive/MyDrive/attack_datasets/Movielens1M/bandwagon/\"\n",
        "attackSize = 0.05\n",
        "fillerSize = 0.05\n",
        "selectedSize = 0.005\n",
        "targetCount = 100\n",
        "targetScore = 4.0\n",
        "threshold = 3.0\n",
        "maxScore = 4.0\n",
        "minScore = 1.0\n",
        "minCount = 50\n",
        "maxCount = 200\n",
        "linkSize = 0.001\n",
        "\n",
        "\n",
        "itemList = []\n",
        "\n",
        "spamProfile = defaultdict(dict)\n",
        "spamItem = defaultdict(list)  # items rated by spammers\n",
        "spamTimeProfile = defaultdict(dict)\n",
        "targetItems = []\n",
        "itemAverage = {}\n",
        "startUserID = 0\n",
        "\n",
        "\n",
        "def getAverageRating():\n",
        "    for itemID in itemProfile:\n",
        "        li = itemProfile[itemID].values()\n",
        "        itemAverage[itemID] = float(sum(li)) / len(li)\n",
        "\n",
        "\n",
        "def selectTarget():\n",
        "    print('Selecting target items...')\n",
        "    \n",
        "    for i in itemProfile.keys():\n",
        "      itemList.append(i)\n",
        "    itemList.sort()\n",
        "    while len(targetItems) < targetCount:\n",
        "        # generate a target order at random\n",
        "        target = np.random.randint(len(itemList))\n",
        "\n",
        "        if len(itemProfile[itemList[target]]) < maxCount and len(itemProfile[itemList[target]]) > minCount \\\n",
        "                and itemList[target] not in targetItems \\\n",
        "                and itemAverage[itemList[target]] <= threshold:\n",
        "            targetItems.append(itemList[target])\n",
        "            #print(itemList[target], ' ', itemAverage[itemList[target]])\n",
        "\n",
        "############################################### config ###################################"
      ],
      "execution_count": null,
      "outputs": []
    },
    {
      "cell_type": "code",
      "metadata": {
        "id": "ubf5UXNUOAQe"
      },
      "source": [
        "def generateLabels(filename):\n",
        "    labels = []\n",
        "    path = outputDir + filename\n",
        "    with open(path, 'w') as f:\n",
        "        for user in spamProfile:\n",
        "            labels.append(str(user)+' 1\\n')\n",
        "        for user in userProfile:\n",
        "            labels.append(str(user)+' 0\\n')\n",
        "        f.writelines(labels)\n",
        "    print('User profiles have been output')\n",
        "\n",
        "\n",
        "def generateProfiles(filename):\n",
        "    ratings = []\n",
        "    path = outputDir+filename\n",
        "    with open(path, 'w') as f:\n",
        "        for user in userProfile:\n",
        "            for item in userProfile[user]:\n",
        "                ratings.append(str(user)+' '+str(item)+' ' +\n",
        "                               str(userProfile[user][item])+' '+str(timeProfile[user][item])+'\\n')\n",
        "\n",
        "        for user in spamProfile:\n",
        "            for item in spamProfile[user]:\n",
        "                ratings.append(str(user) + ' ' + str(item) + ' ' +\n",
        "                               str(spamProfile[user][item])+' '+str(spamTimeProfile[user][item])+'\\n')\n",
        "        print(len(spamProfile))\n",
        "        f.writelines(ratings)\n",
        "    print('User labels have been output')"
      ],
      "execution_count": null,
      "outputs": []
    },
    {
      "cell_type": "code",
      "metadata": {
        "id": "Vvn_FW2if8SB"
      },
      "source": [
        "\n",
        "############################################## average attack ##########################################\n",
        "def average_attack(startID=0):\n",
        "    print('Modeling average attack...')\n",
        "    startUserID = len(userProfile) if startID == 0 else startID\n",
        "    for _ in range(int(len(userProfile)*attackSize)):\n",
        "        fillerItems = getFillerItems()\n",
        "        for item in fillerItems:\n",
        "            spamProfile[startUserID][itemList[item]] = round(itemAverage[itemList[item]])\n",
        "            spamTimeProfile[startUserID][itemList[item]]= random.sample(random_time,1)[0] # random time assigned\n",
        "        for _ in range(targetCount):\n",
        "            target = np.random.randint(len(targetItems))\n",
        "            spamProfile[startUserID][targetItems[target]] = targetScore\n",
        "            spamTimeProfile[startUserID][targetItems[target]]= random.sample(random_time,1)[0] # random time assigned\n",
        "            spamItem[startUserID].append(targetItems[target])\n",
        "        startUserID += 1\n",
        "    print(f\"userid={startUserID}\")\n",
        "\n",
        "\n",
        "def getFillerItems():\n",
        "    mu = int(fillerSize*len(itemProfile))\n",
        "    sigma = int(0.1*mu)\n",
        "    markedItemsCount = abs(int(round(random.gauss(mu, sigma))))\n",
        "    markedItems = np.random.randint(len(itemProfile), size=markedItemsCount)\n",
        "    return markedItems.tolist()\n",
        "############################################## average attack ##########################################\n",
        "\n",
        "\n",
        "\n"
      ],
      "execution_count": null,
      "outputs": []
    },
    {
      "cell_type": "code",
      "metadata": {
        "id": "R8DbRN3mj8xt"
      },
      "source": [
        "outputDir = \"/content/drive/MyDrive/attack_datasets/Movielens100K/average/\"\n",
        "for i in [0.1,0.15,0.2,0.25]:\n",
        "  attackSize = i\n",
        "  fillerSize = 0.05\n",
        "  if i>0.15:\n",
        "    fillerSize = 0.1\n",
        "  selectedSize = 0.005\n",
        "  targetCount = 100\n",
        "  targetScore = 4.0\n",
        "  threshold = 3.0\n",
        "  maxScore = 4.0\n",
        "  minScore = 1.0\n",
        "  minCount = 5\n",
        "  maxCount = 150\n",
        "  linkSize = 0.001\n",
        "\n",
        "\n",
        "  itemList = []\n",
        "\n",
        "  spamProfile = defaultdict(dict)\n",
        "  spamItem = defaultdict(list)  # items rated by spammers\n",
        "  spamTimeProfile = defaultdict(dict)\n",
        "  targetItems = []\n",
        "  itemAverage = {}\n",
        "  startUserID = 0\n",
        "  getAverageRating()\n",
        "  selectTarget()\n",
        "  average_attack()\n",
        "  #attack.farmLink()\n",
        "  generateLabels(f'labels_{i*10}.txt')\n",
        "  generateProfiles(f'profiles_{i*10}.txt')"
      ],
      "execution_count": null,
      "outputs": []
    },
    {
      "cell_type": "code",
      "metadata": {
        "id": "W14PW6Vuymqw"
      },
      "source": [
        "import pandas as pd\n",
        "names = ['user_id', 'item_id', 'rating', 'timestamp']\n",
        "a=pd.read_csv(\"/content/drive/MyDrive/attack_datasets/Movielens1M/bandwagon_profiles.txt\",delim_whitespace=True,names=names)\n",
        "a"
      ],
      "execution_count": null,
      "outputs": []
    },
    {
      "cell_type": "code",
      "metadata": {
        "id": "a8Juo8GnNe8x"
      },
      "source": [
        "############################################## bandwagon attack ##########################################\n",
        "hotItems = sorted(itemProfile.items(), key=lambda d: len(d[1]), reverse=True)[\n",
        "    : int(selectedSize * len(itemProfile))\n",
        "]\n",
        "def bandwagon_attack(startID=0):\n",
        "    print(\"Modeling bandwagon attack...\")\n",
        "    startUserID = len(userProfile) if startID == 0 else startID\n",
        "    for _ in range(int(len(userProfile) * attackSize)):\n",
        "        fillerItems = getFillerItems()\n",
        "        for item in fillerItems:\n",
        "            spamProfile[startUserID][itemList[item]] = random.randint(\n",
        "                minScore, maxScore\n",
        "            )\n",
        "            spamTimeProfile[startUserID][itemList[item]]= random.sample(random_time,1)[0] # random time assigned\n",
        "        selectedItems = getSelectedItems()\n",
        "        for item in selectedItems:\n",
        "            spamProfile[startUserID][item] = targetScore\n",
        "            spamTimeProfile[startUserID][item]= random.sample(random_time,1)[0] # random time assigned\n",
        "        for _ in range(targetCount):\n",
        "            target = np.random.randint(len(targetItems))\n",
        "            spamProfile[startUserID][targetItems[target]] = targetScore\n",
        "            spamTimeProfile[startUserID][targetItems[target]]= random.sample(random_time,1)[0] # random time assigned\n",
        "            spamItem[startUserID].append(targetItems[target])\n",
        "        startUserID += 1\n",
        "    print(f\"userid={startUserID}\")\n",
        "\n",
        "def getFillerItems():\n",
        "    mu = int(fillerSize * len(itemProfile))\n",
        "    sigma = int(0.1 * mu)\n",
        "    markedItemsCount = int(round(random.gauss(mu, sigma)))\n",
        "    markedItemsCount = max(markedItemsCount, 0)\n",
        "    return np.random.randint(len(itemProfile), size=markedItemsCount)\n",
        "\n",
        "\n",
        "def getSelectedItems():\n",
        "    mu = int(selectedSize * len(itemProfile))\n",
        "    sigma = int(0.1 * mu)\n",
        "    markedItemsCount = abs(int(round(random.gauss(mu, sigma))))\n",
        "    markedIndexes = np.random.randint(len(hotItems), size=markedItemsCount)\n",
        "    return [hotItems[index][0] for index in markedIndexes]"
      ],
      "execution_count": null,
      "outputs": []
    },
    {
      "cell_type": "code",
      "metadata": {
        "id": "7we1Z17UZorC"
      },
      "source": [
        "outputDir = \"/content/drive/MyDrive/attack_datasets/Movielens100K/bandwagon/\"\n",
        "for i in [0.1,0.15,0.2,0.25]:\n",
        "  attackSize = i\n",
        "  fillerSize = 0.05\n",
        "  if i>0.15:\n",
        "    fillerSize = 0.1\n",
        "  selectedSize = 0.005\n",
        "  targetCount = 100\n",
        "  targetScore = 4.0\n",
        "  threshold = 3.0\n",
        "  maxScore = 4.0\n",
        "  minScore = 1.0\n",
        "  minCount = 5\n",
        "  maxCount = 150\n",
        "  linkSize = 0.001\n",
        "\n",
        "\n",
        "  itemList = []\n",
        "\n",
        "  spamProfile = defaultdict(dict)\n",
        "  spamItem = defaultdict(list)  # items rated by spammers\n",
        "  spamTimeProfile = defaultdict(dict)\n",
        "  targetItems = []\n",
        "  itemAverage = {}\n",
        "  startUserID = 0\n",
        "  getAverageRating()\n",
        "  selectTarget()\n",
        "  bandwagon_attack()\n",
        "  #attack.farmLink()\n",
        "  generateLabels(f'bandwagon_labels_{i*10}.txt')\n",
        "  generateProfiles(f'bandwagon_profiles_{i*10}.txt')"
      ],
      "execution_count": null,
      "outputs": []
    },
    {
      "cell_type": "code",
      "metadata": {
        "id": "c2EFj83_oRYL"
      },
      "source": [
        "############################################## random attack ##########################################\n",
        "\n",
        "\n",
        "def random_attack(startID=0):\n",
        "    print('Modeling random attack...')\n",
        "    startUserID = len(userProfile) if startID == 0 else startID\n",
        "    for _ in range(int(len(userProfile)*attackSize)):\n",
        "        fillerItems = getFillerItems()\n",
        "        for item in fillerItems:\n",
        "            spamProfile[startUserID][itemList[item]\n",
        "                                          ] = random.randint(minScore, maxScore)\n",
        "            spamTimeProfile[startUserID][itemList[item]]= random.sample(random_time,1)[0] # random time assigned\n",
        "        for _ in range(targetCount):\n",
        "            target = np.random.randint(len(targetItems))\n",
        "            spamProfile[startUserID][targetItems[target]] = targetScore\n",
        "            spamTimeProfile[startUserID][targetItems[target]]= random.sample(random_time,1)[0] # random time assigned\n",
        "            spamItem[startUserID].append(targetItems[target])\n",
        "        startUserID += 1\n",
        "    print(f\"userid={startUserID}\")\n",
        "\n",
        "def getFillerItems():\n",
        "    mu = int(fillerSize*len(itemProfile))\n",
        "    sigma = int(0.1*mu)\n",
        "    markedItemsCount = abs(int(round(random.gauss(mu, sigma))))\n",
        "    markedItems = np.random.randint(len(itemProfile), size=markedItemsCount)\n",
        "    return markedItems.tolist()\n",
        "############################################## random attack ##########################################"
      ],
      "execution_count": null,
      "outputs": []
    },
    {
      "cell_type": "code",
      "metadata": {
        "id": "DATYfLQ0oXal"
      },
      "source": [
        "outputDir = \"/content/drive/MyDrive/attack_datasets/Movielens100K/random/\"\n",
        "for i in [0.1,0.15,0.2,0.25]:\n",
        "  attackSize = i\n",
        "  fillerSize = 0.05\n",
        "  if i>0.15:\n",
        "    fillerSize = 0.1\n",
        "  selectedSize = 0.005\n",
        "  targetCount = 100\n",
        "  targetScore = 4.0\n",
        "  threshold = 3.0\n",
        "  maxScore = 4.0\n",
        "  minScore = 1.0\n",
        "  minCount = 5\n",
        "  maxCount = 150\n",
        "  linkSize = 0.001\n",
        "\n",
        "\n",
        "  itemList = []\n",
        "\n",
        "  spamProfile = defaultdict(dict)\n",
        "  spamItem = defaultdict(list)  # items rated by spammers\n",
        "  spamTimeProfile = defaultdict(dict)\n",
        "  targetItems = []\n",
        "  itemAverage = {}\n",
        "  startUserID = 0\n",
        "  getAverageRating()\n",
        "  selectTarget()\n",
        "  random_attack()\n",
        "  #attack.farmLink()\n",
        "  generateLabels(f'random_labels_{i*10}.txt')\n",
        "  generateProfiles(f'random_profiles_{i*10}.txt')"
      ],
      "execution_count": null,
      "outputs": []
    },
    {
      "cell_type": "code",
      "metadata": {
        "id": "qUBqOFKmpRFp"
      },
      "source": [
        "names = ['user_id', 'item_id', 'rating', 'timestamp']\n",
        "ratings=pd.read_csv(\"/content/drive/MyDrive/attack_datasets/Netflix300K/random/random_profiles_1.0.txt\",delim_whitespace=True,names=names)\n",
        "names1=['user_id','label']\n",
        "labels=pd.read_csv(\"/content/drive/MyDrive/attack_datasets/Netflix300K/random/random_labels_1.0.txt\",delim_whitespace=True,names=names1)\n"
      ],
      "execution_count": null,
      "outputs": []
    }
  ]
}